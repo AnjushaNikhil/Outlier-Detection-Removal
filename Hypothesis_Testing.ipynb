{
 "cells": [
  {
   "cell_type": "markdown",
   "id": "628cb28e-6bbb-4b55-8f9c-66642570d6d6",
   "metadata": {},
   "source": [
    "# HYPOTHESIS TESTING"
   ]
  },
  {
   "cell_type": "markdown",
   "id": "a21d57d9-8469-4240-99d2-4070ef82e9f5",
   "metadata": {},
   "source": [
    "Hypothesis testing is a fundamental statistical method used to make inferences about population parameters based on sample data. It involves formulating two competing hypotheses: the null hypothesis (H0), which typically states that there is no effect or no difference between groups, and the alternative hypothesis (H1), which asserts the presence of an effect or difference. The process generally entails selecting an appropriate statistical test based on the nature of the data and the research question, calculating a test statistic from the sample data, and determining the probability of obtaining such results under the assumption that the null hypothesis is true, known as the p-value. If the p-value is below a predetermined significance level (usually 0.05), the null hypothesis is rejected in favor of the alternative hypothesis, suggesting evidence for the presence of an effect or difference. Otherwise, if the p-value is above the significance level, the null hypothesis is not rejected. Hypothesis testing provides a systematic framework for drawing conclusions from data, aiding researchers in making informed decisions and drawing valid inferences about the population."
   ]
  },
  {
   "cell_type": "markdown",
   "id": "aa5b313b-91de-4908-9cb5-b30b158d4b43",
   "metadata": {},
   "source": [
    "### Q1.Suppose a child psychologist claims that the average time working mothers spend talking to their children is at least 11 minutes per day. You conduct a random sample of 1000 working mothers and find they spend an average of 11.5 minutes per day talking with their children. Assume prior research suggests the population standard deviation is 2.3 minutes.Conduct a test with a level of significance of alpha = 0.05."
   ]
  },
  {
   "cell_type": "markdown",
   "id": "fece8b0e-2b46-43a2-b30f-5dc101bf007a",
   "metadata": {},
   "source": [
    "### Null Hypothesis\r",
    "HO=µ≤11 minutess"
   ]
  },
  {
   "cell_type": "markdown",
   "id": "934d3ca5-8581-44c2-9c84-7ba10ebbb800",
   "metadata": {},
   "source": [
    "### Alternative Hypothesis\n",
    "Ha=µ>11 minutes\r\n",
    "\r\n",
    "x̄=11.5 minutes\r\n",
    "\r\n",
    "n=1000\r\n",
    "\r\n",
    "σ=2.3 minutes\r\n",
    "\r\n",
    "α = 0.05"
   ]
  },
  {
   "cell_type": "markdown",
   "id": "d8df5e1f-b3b1-448f-8c76-defbb560355a",
   "metadata": {},
   "source": [
    "### Statistical Test:\r",
    "Since we have a sample of 1000, which is greater than 30, and we have a sample mean, a known population standard deviation, and want to compare the sample mean to a population value, we'll use a z-test.\r\n",
    "\r\n",
    "rejection criteria is z_statistic>critical value , fail to accept Ho\r\n",
    "\r\n",
    "Formula Z=(x̄-µ)/(σ/√n)\r\n",
    "\r\n",
    "Where: x̄ = sample mean (11.5 minutes), μ = population mean (11 minutes), σ = population standard deviation (2.3 minutes), n = sample size (1000)\r\n",
    "\r\n",
    " (40)"
   ]
  },
  {
   "cell_type": "code",
   "execution_count": 1,
   "id": "4194deaf-3122-4358-aa32-c6a9d895810a",
   "metadata": {},
   "outputs": [],
   "source": [
    "import math\n"
   ]
  },
  {
   "cell_type": "code",
   "execution_count": 2,
   "id": "452f8370-d9da-46c8-a447-ffcfe8471348",
   "metadata": {},
   "outputs": [
    {
     "data": {
      "text/plain": [
       "6.874516652539955"
      ]
     },
     "execution_count": 2,
     "metadata": {},
     "output_type": "execute_result"
    }
   ],
   "source": [
    "Z=(11.5-11)/(2.3/math.sqrt(1000))\n",
    "Z"
   ]
  },
  {
   "cell_type": "markdown",
   "id": "645748bf-498a-43c1-ac08-c2ce0d90f17e",
   "metadata": {},
   "source": [
    "### Determine Critical Value or P-value:\r\n",
    "\n",
    "Since we're conducting a one-tailed test (since we're testing if the average time is more than 11 minutes), we'll look up the critical value for a z-score corresponding to an alpha level of 0.05 from z-distribution table"
   ]
  },
  {
   "cell_type": "markdown",
   "id": "9445464d-b2a9-456b-a697-27fe100a1590",
   "metadata": {},
   "source": [
    "## corresponds to an alpha level of 0.05.\n",
    "Critical value=1.645\n"
   ]
  },
  {
   "cell_type": "markdown",
   "id": "48d4fdf3-8784-41a0-945e-bc8f7b5e0a86",
   "metadata": {},
   "source": [
    "#### Conslusion:\n",
    "Since our calculated z-score (6.88) is much greater than the critical value (1.645), we reject the null hypothesis. We have sufficient evidence to conclude that the average time working mothers spend talking to their children is indeed more than 11 minutes per day"
   ]
  },
  {
   "cell_type": "markdown",
   "id": "172ab886-4459-49d9-9850-41a298fad334",
   "metadata": {},
   "source": [
    "#### Q2. A coffee shop claims that their average wait time for customers is less than 5 minutes. To test this claim, a sample of 40 customers is taken, and their wait times are recorded. The sample mean wait time is found to be 4.6 minutes with a standard deviation of 0.8 minutes. Perform a hypothesis test at a significance level of 0.05 and determine whether there is enough evidence to support the coffee shop's claim."
   ]
  },
  {
   "cell_type": "markdown",
   "id": "90646edd-6247-43f0-804e-e5ff2d5aa993",
   "metadata": {},
   "source": [
    "### Null Hypothesis\r\n",
    "H0=µ≥5 minutes"
   ]
  },
  {
   "cell_type": "markdown",
   "id": "21e7df05-f1d9-4838-a87a-f28bbea7a8ea",
   "metadata": {},
   "source": [
    "### Alternative Hypothesis\r\n",
    "Ha=µ<5 minutes\r\n",
    "\r\n",
    "Sample size (n) = 40\r\n",
    "\r\n",
    "Sample mean (x̄) = 4.6 minutes\r\n",
    "\r\n",
    "Sample Standard deviation (σ) = 0.8 minutes\r\n",
    "\r\n",
    "Population mean (μ) = 5 minutes\r\n",
    "\r\n",
    "Significance level (α) = 0.05 (5%)\r\n",
    "\r\n",
    "degrees of freedom=n-1=39"
   ]
  },
  {
   "cell_type": "markdown",
   "id": "41a4c9a4-67fd-4c13-b03e-69a30e92be73",
   "metadata": {},
   "source": [
    "#### Statistical Test:\r\n",
    "In cases where we're unsure about the population standard deviation, opting for a t-test is appropriate. . When dealing with sample sizes that exceed 30, the t-test remains applicable even in cases where the population standard deviation is unknown. This is facilitated by the Central Limit Theorem, which asserts that as the sample size increases, the distribution of sample means tends towards a normal distribution.\r\n",
    "\r\n",
    "Formula t=(x̄-µ)/(σ/√n)\r\n",
    "\r\n",
    "Where: x̄ = sample mean (4.6 minutes), μ = population mean (5 minutes), σ = population standard deviation (0.8 minutes), n = sample size (40)"
   ]
  },
  {
   "cell_type": "code",
   "execution_count": 3,
   "id": "31c5ef5f-9738-442a-902f-5938dc518967",
   "metadata": {},
   "outputs": [
    {
     "data": {
      "text/plain": [
       "-3.162277660168382"
      ]
     },
     "execution_count": 3,
     "metadata": {},
     "output_type": "execute_result"
    }
   ],
   "source": [
    "import math\n",
    "t=(4.6-5)/(0.8/math.sqrt(40))\n",
    "t"
   ]
  },
  {
   "cell_type": "markdown",
   "id": "4a64a5df-06a3-4c55-ac87-6f3b19f5ea3b",
   "metadata": {},
   "source": [
    "Now, we'll compare this t-value to the critical t-value at a significance level of 0.05 with degrees of freedom (df)"
   ]
  },
  {
   "cell_type": "markdown",
   "id": "8dffa5b7-8e50-4773-a1e1-56236d6ac1b7",
   "metadata": {},
   "source": [
    "#### Determine Critical Value or P-value:\r\n",
    "For a one-tailed test at α = 0.05 and df = 39, the critical t-value is approximately -1.685 (since we're testing for less than)."
   ]
  },
  {
   "cell_type": "markdown",
   "id": "480ab269-e7d1-4ecb-aa16-5a9d26e9c674",
   "metadata": {},
   "source": []
  }
 ],
 "metadata": {
  "kernelspec": {
   "display_name": "Python 3 (ipykernel)",
   "language": "python",
   "name": "python3"
  },
  "language_info": {
   "codemirror_mode": {
    "name": "ipython",
    "version": 3
   },
   "file_extension": ".py",
   "mimetype": "text/x-python",
   "name": "python",
   "nbconvert_exporter": "python",
   "pygments_lexer": "ipython3",
   "version": "3.11.8"
  }
 },
 "nbformat": 4,
 "nbformat_minor": 5
}
